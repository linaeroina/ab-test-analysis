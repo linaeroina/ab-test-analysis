{
 "cells": [
  {
   "cell_type": "code",
   "execution_count": 2,
   "id": "21ba0b5d-5233-408d-9bfe-6f0540a0f681",
   "metadata": {},
   "outputs": [
    {
     "data": {
      "text/html": [
       "<div>\n",
       "<style scoped>\n",
       "    .dataframe tbody tr th:only-of-type {\n",
       "        vertical-align: middle;\n",
       "    }\n",
       "\n",
       "    .dataframe tbody tr th {\n",
       "        vertical-align: top;\n",
       "    }\n",
       "\n",
       "    .dataframe thead th {\n",
       "        text-align: right;\n",
       "    }\n",
       "</style>\n",
       "<table border=\"1\" class=\"dataframe\">\n",
       "  <thead>\n",
       "    <tr style=\"text-align: right;\">\n",
       "      <th></th>\n",
       "      <th>user_id</th>\n",
       "      <th>timestamp</th>\n",
       "      <th>group</th>\n",
       "      <th>landing_page</th>\n",
       "      <th>converted</th>\n",
       "    </tr>\n",
       "  </thead>\n",
       "  <tbody>\n",
       "    <tr>\n",
       "      <th>0</th>\n",
       "      <td>851104</td>\n",
       "      <td>2017-01-21 22:11:48.556739</td>\n",
       "      <td>control</td>\n",
       "      <td>old_page</td>\n",
       "      <td>0</td>\n",
       "    </tr>\n",
       "    <tr>\n",
       "      <th>1</th>\n",
       "      <td>804228</td>\n",
       "      <td>2017-01-12 08:01:45.159739</td>\n",
       "      <td>control</td>\n",
       "      <td>old_page</td>\n",
       "      <td>0</td>\n",
       "    </tr>\n",
       "    <tr>\n",
       "      <th>2</th>\n",
       "      <td>661590</td>\n",
       "      <td>2017-01-11 16:55:06.154213</td>\n",
       "      <td>treatment</td>\n",
       "      <td>new_page</td>\n",
       "      <td>0</td>\n",
       "    </tr>\n",
       "    <tr>\n",
       "      <th>3</th>\n",
       "      <td>853541</td>\n",
       "      <td>2017-01-08 18:28:03.143765</td>\n",
       "      <td>treatment</td>\n",
       "      <td>new_page</td>\n",
       "      <td>0</td>\n",
       "    </tr>\n",
       "    <tr>\n",
       "      <th>4</th>\n",
       "      <td>864975</td>\n",
       "      <td>2017-01-21 01:52:26.210827</td>\n",
       "      <td>control</td>\n",
       "      <td>old_page</td>\n",
       "      <td>1</td>\n",
       "    </tr>\n",
       "    <tr>\n",
       "      <th>...</th>\n",
       "      <td>...</td>\n",
       "      <td>...</td>\n",
       "      <td>...</td>\n",
       "      <td>...</td>\n",
       "      <td>...</td>\n",
       "    </tr>\n",
       "    <tr>\n",
       "      <th>294473</th>\n",
       "      <td>751197</td>\n",
       "      <td>2017-01-03 22:28:38.630509</td>\n",
       "      <td>control</td>\n",
       "      <td>old_page</td>\n",
       "      <td>0</td>\n",
       "    </tr>\n",
       "    <tr>\n",
       "      <th>294474</th>\n",
       "      <td>945152</td>\n",
       "      <td>2017-01-12 00:51:57.078372</td>\n",
       "      <td>control</td>\n",
       "      <td>old_page</td>\n",
       "      <td>0</td>\n",
       "    </tr>\n",
       "    <tr>\n",
       "      <th>294475</th>\n",
       "      <td>734608</td>\n",
       "      <td>2017-01-22 11:45:03.439544</td>\n",
       "      <td>control</td>\n",
       "      <td>old_page</td>\n",
       "      <td>0</td>\n",
       "    </tr>\n",
       "    <tr>\n",
       "      <th>294476</th>\n",
       "      <td>697314</td>\n",
       "      <td>2017-01-15 01:20:28.957438</td>\n",
       "      <td>control</td>\n",
       "      <td>old_page</td>\n",
       "      <td>0</td>\n",
       "    </tr>\n",
       "    <tr>\n",
       "      <th>294477</th>\n",
       "      <td>715931</td>\n",
       "      <td>2017-01-16 12:40:24.467417</td>\n",
       "      <td>treatment</td>\n",
       "      <td>new_page</td>\n",
       "      <td>0</td>\n",
       "    </tr>\n",
       "  </tbody>\n",
       "</table>\n",
       "<p>294478 rows × 5 columns</p>\n",
       "</div>"
      ],
      "text/plain": [
       "        user_id                   timestamp      group landing_page  converted\n",
       "0        851104  2017-01-21 22:11:48.556739    control     old_page          0\n",
       "1        804228  2017-01-12 08:01:45.159739    control     old_page          0\n",
       "2        661590  2017-01-11 16:55:06.154213  treatment     new_page          0\n",
       "3        853541  2017-01-08 18:28:03.143765  treatment     new_page          0\n",
       "4        864975  2017-01-21 01:52:26.210827    control     old_page          1\n",
       "...         ...                         ...        ...          ...        ...\n",
       "294473   751197  2017-01-03 22:28:38.630509    control     old_page          0\n",
       "294474   945152  2017-01-12 00:51:57.078372    control     old_page          0\n",
       "294475   734608  2017-01-22 11:45:03.439544    control     old_page          0\n",
       "294476   697314  2017-01-15 01:20:28.957438    control     old_page          0\n",
       "294477   715931  2017-01-16 12:40:24.467417  treatment     new_page          0\n",
       "\n",
       "[294478 rows x 5 columns]"
      ]
     },
     "execution_count": 2,
     "metadata": {},
     "output_type": "execute_result"
    }
   ],
   "source": [
    "import pandas as pd\n",
    "import numpy as np\n",
    "import matplotlib.pyplot as plt\n",
    "import seaborn as sns\n",
    "from scipy import stats\n",
    "df = pd.read_csv('ab_data.csv')\n",
    "df"
   ]
  },
  {
   "cell_type": "code",
   "execution_count": 12,
   "id": "4b9509b2-7a29-44cf-869d-cdf5a9c60d6a",
   "metadata": {},
   "outputs": [
    {
     "name": "stdout",
     "output_type": "stream",
     "text": [
      "1. Распределение пользователей по группам:\n",
      "\n",
      "Распределение:\n",
      "group\n",
      "treatment    147276\n",
      "control      147202\n",
      "Name: count, dtype: int64\n"
     ]
    }
   ],
   "source": [
    "print(\"1. Распределение пользователей по группам:\")\n",
    "\n",
    "# Количество пользователей в каждой группе\n",
    "group_counts = df['group'].value_counts()\n",
    "print(f\"\\nРаспределение:\\n{group_counts}\")\n"
   ]
  },
  {
   "cell_type": "code",
   "execution_count": 30,
   "id": "baac3640-1f43-4ee7-99b3-2c49278ef5ea",
   "metadata": {},
   "outputs": [
    {
     "name": "stdout",
     "output_type": "stream",
     "text": [
      "\n",
      "Проверка группы B:\n",
      "Series([], Name: count, dtype: int64)\n",
      "        user_id                   timestamp      group landing_page  converted\n",
      "207211   630320  2017-01-07 18:02:43.626318    control     old_page          0\n",
      "255753   630320  2017-01-12 05:27:37.181803  treatment     old_page          0\n",
      "39852    630805  2017-01-22 12:01:15.144329    control     old_page          0\n",
      "73599    630805  2017-01-12 20:45:39.012189  treatment     old_page          0\n",
      "213377   630871  2017-01-08 14:00:05.181612    control     old_page          0\n",
      "...         ...                         ...        ...          ...        ...\n",
      "257763   945369  2017-01-15 11:08:09.106160    control     old_page          0\n",
      "183169   945387  2017-01-03 01:12:35.747597  treatment     new_page          0\n",
      "275158   945387  2017-01-20 02:12:45.553852    control     new_page          0\n",
      "49419    945627  2017-01-06 00:03:20.474879    control     new_page          1\n",
      "243428   945627  2017-01-17 15:43:17.255322  treatment     new_page          1\n",
      "\n",
      "[3790 rows x 5 columns]\n",
      "пользователей в обеих группах: 1895\n"
     ]
    }
   ],
   "source": [
    "# Проверка, что группа B видела только новую версию\n",
    "if 'landing_page' in df.columns:\n",
    "    group_b_check = df[df['group'] == 'B']['landing_page'].value_counts()\n",
    "    print(\"\\nПроверка группы B:\")\n",
    "    print(group_b_check)\n",
    "    \n",
    "    if 'old_page' in group_b_check.index:\n",
    "        print(f\"⚠️ Ошибка: {group_b_check['old_page']} пользователей в группе B видели старую версию!\")\n",
    "\n",
    "# Поиск пользователей в обеих группах\n",
    "if 'user_id' in df.columns:\n",
    "    user_groups = df.groupby('user_id')['group'].nunique()\n",
    "    problem_users = user_groups[user_groups > 1].index\n",
    "print(df[df['user_id'].isin(problem_users)].sort_values('user_id'))\n",
    "print(f\"Пользователей в обеих группах: {len(problem_users)}\")"
   ]
  },
  {
   "cell_type": "code",
   "execution_count": 40,
   "id": "437a5fd6-9319-428a-9157-8f4a12e0a330",
   "metadata": {},
   "outputs": [
    {
     "name": "stdout",
     "output_type": "stream",
     "text": [
      "Empty DataFrame\n",
      "Columns: [user_id, timestamp, group, landing_page, converted]\n",
      "Index: []\n",
      "Пользователей в обеих группах: 0\n"
     ]
    }
   ],
   "source": [
    "#Удаляем все дубли чтобы не было смеси воздействий , оставлем только первую запись \n",
    "df = df.drop_duplicates(subset=['user_id'], keep='first')\n",
    "\n",
    "#проверяем, что все удалилось \n",
    "if 'user_id' in df.columns:\n",
    "    user_groups = df.groupby('user_id')['group'].nunique()\n",
    "    problem_users = user_groups[user_groups > 1].index\n",
    "print(df[df['user_id'].isin(problem_users)].sort_values('user_id'))\n",
    "print(f\"Пользователей в обеих группах: {len(problem_users)}\")"
   ]
  },
  {
   "cell_type": "code",
   "execution_count": 76,
   "id": "21f62b88-1c30-4c87-8bed-c3103800323a",
   "metadata": {},
   "outputs": [
    {
     "data": {
      "text/plain": [
       "<Figure size 1200x600 with 0 Axes>"
      ]
     },
     "metadata": {},
     "output_type": "display_data"
    },
    {
     "data": {
      "image/png": "[encoded data removed]",
      "text/plain": [
       "<Figure size 640x480 with 1 Axes>"
      ]
     },
     "metadata": {},
     "output_type": "display_data"
    },
    {
     "data": {
      "text/plain": [
       "10793     2017-01-24 00:00:06.008560\n",
       "293166    2017-01-24 00:00:09.083030\n",
       "272194    2017-01-24 00:00:09.886226\n",
       "176036    2017-01-24 00:00:16.889753\n",
       "193612    2017-01-24 00:00:21.942543\n",
       "                     ...            \n",
       "153305    2017-01-24 13:41:18.869978\n",
       "47535     2017-01-24 13:41:19.152664\n",
       "157787    2017-01-24 13:41:44.097174\n",
       "179072    2017-01-24 13:41:52.604673\n",
       "193652    2017-01-24 13:41:54.460509\n",
       "Name: timestamp, Length: 7439, dtype: object"
      ]
     },
     "execution_count": 76,
     "metadata": {},
     "output_type": "execute_result"
    }
   ],
   "source": [
    "# Группировка по дням и группам\n",
    "daily_users = df.groupby(['date', 'group'])['user_id'].nunique().unstack()\n",
    "\n",
    "# Визуализация\n",
    "plt.figure(figsize=(12, 6))\n",
    "daily_users.plot(kind='line', marker='o')\n",
    "plt.title('Количество пользователей по дням')\n",
    "plt.xlabel('Дата')\n",
    "plt.ylabel('Количество пользователей')\n",
    "plt.grid(True)\n",
    "plt.show()\n",
    "\n",
    "#Заметим, что в первый и последний дни у нас есть скачки, это связано с тем, что тест начался в 13:42 2 января и закончился в 13:42 24 января, то есть в другие дни тест шел 24 часа в сутки, а в эти только около 14\n",
    "df['timestamp'][df['timestamp'].str.contains('2017-01-24')].sort_values()\n",
    "#Можно сделать вывод, что значительных скачков по дням не было и тест шел примерно одновременно для обеих групп, все гуд и можно переходить к подсчету метрик"
   ]
  },
  {
   "cell_type": "code",
   "execution_count": null,
   "id": "306fbe31-1c74-49ff-bb3c-2bd2c165cf9b",
   "metadata": {},
   "outputs": [],
   "source": []
  }
 ],
 "metadata": {
  "kernelspec": {
   "display_name": "Python [conda env:base] *",
   "language": "python",
   "name": "conda-base-py"
  },
  "language_info": {
   "codemirror_mode": {
    "name": "ipython",
    "version": 3
   },
   "file_extension": ".py",
   "mimetype": "text/x-python",
   "name": "python",
   "nbconvert_exporter": "python",
   "pygments_lexer": "ipython3",
   "version": "3.12.7"
  }
 },
 "nbformat": 4,
 "nbformat_minor": 5
}
